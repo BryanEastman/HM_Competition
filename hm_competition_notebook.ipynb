{
 "cells": [
  {
   "cell_type": "markdown",
   "id": "9c98a812",
   "metadata": {},
   "source": [
    "# H&M Personalized Fashion Recommendations\n",
    "\n",
    "## Purpose\n",
    "\n",
    "To develop product recommendations based on data from previous transactions and product and customer metadata. Using ML techniques, we will build a model to predict what articles each customer will purchase in the following 7-day period.  Customers who didn't make a purchase will be excluded from scoring.  \n",
    "\n",
    "## Datasets\n",
    "- articles.csv \n",
    "    - appearance\n",
    "    - product family\n",
    "    - name\n",
    "- customers.csv\n",
    "    - club status \n",
    "    - age\n",
    "    - postal code\n",
    "- transactions_train.csv\n",
    "    - data to train the completed model on"
   ]
  },
  {
   "cell_type": "code",
   "execution_count": 54,
   "id": "8bc16a14",
   "metadata": {},
   "outputs": [
    {
     "name": "stdout",
     "output_type": "stream",
     "text": [
      "['customers.csv', 'sample_submission.csv', 'transactions_train.csv', 'articles.csv']\n"
     ]
    }
   ],
   "source": [
    "# set up paths and create datasets\n",
    "import os\n",
    "import pandas as pd\n",
    "from dask import dataframe as dframe # the training dataset is hugenormous so we'll let dask handle it\n",
    "\n",
    "# create paths based on current working directory\n",
    "data_folder = os.path.join(os.getcwd(), 'data')\n",
    "hm_datasets = os.path.join(data_folder, 'h-and-m-personalized-fashion-recommendations')\n",
    "print(os.listdir(hm_datasets))\n",
    "\n",
    "# convert csv files to dataframes\n",
    "customers = pd.read_csv(os.path.join(hm_datasets, 'customers.csv'))\n",
    "articles = pd.read_csv(os.path.join(hm_datasets, 'articles.csv'))\n",
    "submission = pd.read_csv(os.path.join(hm_datasets, 'sample_submission.csv'))\n",
    "txs = dframe.read_csv(os.path.join(hm_datasets,'transactions_train.csv'))"
   ]
  },
  {
   "cell_type": "code",
   "execution_count": 55,
   "id": "8e33995c",
   "metadata": {},
   "outputs": [
    {
     "data": {
      "text/plain": [
       "'0706016001 0706016002 0372860001 0610776002 0759871002 0464297007 0372860002 0610776001 0399223001 0706016003 0720125001 0156231001'"
      ]
     },
     "execution_count": 55,
     "metadata": {},
     "output_type": "execute_result"
    }
   ],
   "source": [
    "submission.iloc[0][1] # sample view of prediction for formatting"
   ]
  },
  {
   "cell_type": "code",
   "execution_count": 56,
   "id": "a431a270",
   "metadata": {},
   "outputs": [
    {
     "data": {
      "text/plain": [
       "customer_id                    0\n",
       "FN                        895050\n",
       "Active                    907576\n",
       "club_member_status          6062\n",
       "fashion_news_frequency     16009\n",
       "age                        15861\n",
       "postal_code                    0\n",
       "dtype: int64"
      ]
     },
     "execution_count": 56,
     "metadata": {},
     "output_type": "execute_result"
    }
   ],
   "source": [
    "customers.isna().sum() # get null counts per column"
   ]
  },
  {
   "cell_type": "code",
   "execution_count": 57,
   "id": "507a201c",
   "metadata": {},
   "outputs": [
    {
     "data": {
      "text/plain": [
       "customer_id               1371980\n",
       "FN                              1\n",
       "Active                          1\n",
       "club_member_status              3\n",
       "fashion_news_frequency          4\n",
       "age                            84\n",
       "postal_code                352899\n",
       "dtype: int64"
      ]
     },
     "execution_count": 57,
     "metadata": {},
     "output_type": "execute_result"
    }
   ],
   "source": [
    "clean_cust = customers.copy(deep=True) # copy df to clean values\n",
    "clean_cust.nunique()"
   ]
  },
  {
   "cell_type": "code",
   "execution_count": 58,
   "id": "540f6cb3",
   "metadata": {},
   "outputs": [
    {
     "data": {
      "text/plain": [
       "ACTIVE        1272491\n",
       "PRE-CREATE      92960\n",
       "NaN              6062\n",
       "LEFT CLUB         467\n",
       "Name: club_member_status, dtype: int64"
      ]
     },
     "execution_count": 58,
     "metadata": {},
     "output_type": "execute_result"
    }
   ],
   "source": [
    "clean_cust[['FN','Active']] = clean_cust[['FN','Active']].fillna(value=0) # FN and Active are binary - either True or False\n",
    "\n",
    "clean_cust.club_member_status.value_counts(dropna=False)"
   ]
  },
  {
   "cell_type": "code",
   "execution_count": 59,
   "id": "b98cf33c",
   "metadata": {},
   "outputs": [
    {
     "data": {
      "text/plain": [
       "NONE         877713\n",
       "REGULARLY    477416\n",
       "NaN           16009\n",
       "MONTHLY         842\n",
       "Name: fashion_news_frequency, dtype: int64"
      ]
     },
     "execution_count": 59,
     "metadata": {},
     "output_type": "execute_result"
    }
   ],
   "source": [
    "clean_cust.club_member_status.fillna('NEVER',inplace=True) # assuming if null, never joined club\n",
    "\n",
    "clean_cust.fashion_news_frequency = clean_cust.fashion_news_frequency.str.upper() # normalize text to uppercase\n",
    "clean_cust.fashion_news_frequency.value_counts(dropna=False)"
   ]
  },
  {
   "cell_type": "code",
   "execution_count": 60,
   "id": "13cc301d",
   "metadata": {},
   "outputs": [
    {
     "data": {
      "text/plain": [
       "FN   Active\n",
       "0.0  0.0       876922\n",
       "1.0  1.0          500\n",
       "     0.0          291\n",
       "dtype: int64"
      ]
     },
     "execution_count": 60,
     "metadata": {},
     "output_type": "execute_result"
    }
   ],
   "source": [
    "clean_cust[clean_cust.fashion_news_frequency == 'NONE'][['FN','Active']].value_counts() # FN by None"
   ]
  },
  {
   "cell_type": "code",
   "execution_count": 61,
   "id": "301b4767",
   "metadata": {},
   "outputs": [
    {
     "data": {
      "text/plain": [
       "FN   Active  club_member_status\n",
       "0.0  0.0     ACTIVE                11925\n",
       "             PRE-CREATE             2049\n",
       "             NEVER                  2035\n",
       "dtype: int64"
      ]
     },
     "execution_count": 61,
     "metadata": {},
     "output_type": "execute_result"
    }
   ],
   "source": [
    "clean_cust[clean_cust.fashion_news_frequency.isna()][['FN','Active','club_member_status']].value_counts() # FN by Null"
   ]
  },
  {
   "cell_type": "markdown",
   "id": "c833e28f",
   "metadata": {},
   "source": [
    "We see 500 instances where `FN`, `Active`, and `club_member_status` all indicate active membership, however `fashion_news_frequency` is `NONE`.  In order to understand the best way to handle null values we need to understand if these rows are erroneous and removable, and thus NaN values can be called None, or if another value should be used in place.  After running through the signup form for the fashion news frequency, there is no clear indication for what `REGULARLY` or `MONTHLY` mean in this context. \n",
    "\n",
    "Given the relavitely small number of nulls, it may make sense to drop the rows where `FN` or `Active` are 1 and `fashion_news_frequency` is `NONE` and impute all NaN values to equal 0.  This should help to reduce potential noise as we move forward."
   ]
  },
  {
   "cell_type": "code",
   "execution_count": 62,
   "id": "0ce4c617",
   "metadata": {},
   "outputs": [
    {
     "data": {
      "text/plain": [
       "customer_id                   0\n",
       "FN                            0\n",
       "Active                        0\n",
       "club_member_status            0\n",
       "fashion_news_frequency        0\n",
       "age                       15853\n",
       "postal_code                   0\n",
       "dtype: int64"
      ]
     },
     "execution_count": 62,
     "metadata": {},
     "output_type": "execute_result"
    }
   ],
   "source": [
    "clean_cust = clean_cust.drop(clean_cust[(clean_cust.fashion_news_frequency == 'NONE') & (clean_cust.FN == 1.0)].index)\n",
    "clean_cust.fashion_news_frequency = clean_cust.fashion_news_frequency.fillna(0)\n",
    "\n",
    "clean_cust.isna().sum() # remaining null counts"
   ]
  },
  {
   "cell_type": "markdown",
   "id": "9533ceb9",
   "metadata": {},
   "source": [
    "Age will be a little harder to handle null values, as it has a larger number of values on an interval scale.  A couple ways we can handle this are:\n",
    "* impute by mean of distribution (only effective if age follows a gaussian distribution)\n",
    "* drop all nulls (could potentially lose a significant amount of data)\n",
    "* Predictive Mean Matching (fits better to non-normal distributions)\n",
    "\n",
    "Before we can choose a method we'll have to see what the effects will be of choosing any."
   ]
  },
  {
   "cell_type": "code",
   "execution_count": 63,
   "id": "f8423b57",
   "metadata": {},
   "outputs": [
    {
     "name": "stdout",
     "output_type": "stream",
     "text": [
      "information loss: 1.16%\n"
     ]
    }
   ],
   "source": [
    "# potential information loss if we drop null values\n",
    "print('information loss: {:.2%}'.format(clean_cust.age.isna().sum() / len(clean_cust)))"
   ]
  },
  {
   "cell_type": "code",
   "execution_count": 64,
   "id": "50d34d4b",
   "metadata": {},
   "outputs": [
    {
     "name": "stdout",
     "output_type": "stream",
     "text": [
      "mean age: 36.39\n",
      "median age: 32.00\n",
      "mode age: 21.00\n"
     ]
    },
    {
     "data": {
      "image/png": "[encoded data removed]",
      "text/plain": [
       "<Figure size 432x288 with 1 Axes>"
      ]
     },
     "metadata": {
      "needs_background": "light"
     },
     "output_type": "display_data"
    }
   ],
   "source": [
    "# age distribution\n",
    "import matplotlib.pyplot as plt\n",
    "import seaborn as sns\n",
    "\n",
    "%matplotlib inline\n",
    "sns.histplot(clean_cust, x='age')\n",
    "plt.axvline(clean_cust.age.mean(), color='red')\n",
    "plt.axvline(clean_cust.age.median(), color='green')\n",
    "plt.axvline(clean_cust.age.mode()[0], color='yellow')\n",
    "\n",
    "print(f'mean age: {clean_cust.age.mean():.2f}')\n",
    "print(f'median age: {clean_cust.age.median():.2f}')\n",
    "print(f'mode age: {clean_cust.age.mode()[0]:.2f}')"
   ]
  },
  {
   "cell_type": "markdown",
   "id": "57cb1eb8",
   "metadata": {},
   "source": [
    "Because the distribution above is non-normal, we cannot use mean imputation since the mean will tend to fill in the 'valley' of the data, where it is actually less likely compared to either 'peak'. Therefore, we will select an algorithm  to impute the data matching the current distribution as best we can.\n",
    "\n",
    "For this we can use XGBoost and MICE.  XGBoost is a fast tree-based classifier algorithm useful for large amounts of data.  MICE stands for Multiple Imputation by Chained Equations.  It works by imputing missing data using an iterative series of predictive models, using other variables in the dataset to make predictions until the values converge.  If the variables are totally independent, then the results likely will not be accurate and should be validated.  "
   ]
  },
  {
   "cell_type": "code",
   "execution_count": 65,
   "id": "9122d557",
   "metadata": {},
   "outputs": [
    {
     "name": "stdout",
     "output_type": "stream",
     "text": [
      "<class 'pandas.core.frame.DataFrame'>\n",
      "Int64Index: 1371189 entries, 0 to 1371979\n",
      "Data columns (total 7 columns):\n",
      " #   Column                  Non-Null Count    Dtype  \n",
      "---  ------                  --------------    -----  \n",
      " 0   customer_id             1371189 non-null  object \n",
      " 1   FN                      1371189 non-null  object \n",
      " 2   Active                  1371189 non-null  object \n",
      " 3   club_member_status      1371189 non-null  object \n",
      " 4   fashion_news_frequency  1371189 non-null  object \n",
      " 5   age                     1355336 non-null  float64\n",
      " 6   postal_code             1371189 non-null  object \n",
      "dtypes: float64(1), object(6)\n",
      "memory usage: 83.7+ MB\n"
     ]
    }
   ],
   "source": [
    "clean_cust.iloc[:,1:-2] = clean_cust.iloc[:,1:-2].astype('str')\n",
    "clean_cust.info()"
   ]
  },
  {
   "cell_type": "markdown",
   "id": "cde29b08",
   "metadata": {},
   "source": [
    "Prior to imputing age, we have to transform our categorical data to numerical instead of string data so the model is able to interpret it correctly.  Since we have a number of distinct categorical variables, One Hot Encoding is appropriate. "
   ]
  },
  {
   "cell_type": "code",
   "execution_count": 66,
   "id": "9b5186da",
   "metadata": {},
   "outputs": [
    {
     "data": {
      "text/html": [
       "<div>\n",
       "<style scoped>\n",
       "    .dataframe tbody tr th:only-of-type {\n",
       "        vertical-align: middle;\n",
       "    }\n",
       "\n",
       "    .dataframe tbody tr th {\n",
       "        vertical-align: top;\n",
       "    }\n",
       "\n",
       "    .dataframe thead th {\n",
       "        text-align: right;\n",
       "    }\n",
       "</style>\n",
       "<table border=\"1\" class=\"dataframe\">\n",
       "  <thead>\n",
       "    <tr style=\"text-align: right;\">\n",
       "      <th></th>\n",
       "      <th>key_0</th>\n",
       "      <th>customer_id</th>\n",
       "      <th>age</th>\n",
       "      <th>postal_code</th>\n",
       "      <th>FN_0.0</th>\n",
       "      <th>FN_1.0</th>\n",
       "      <th>Active_0.0</th>\n",
       "      <th>Active_1.0</th>\n",
       "      <th>club_member_status_ACTIVE</th>\n",
       "      <th>club_member_status_LEFT CLUB</th>\n",
       "      <th>club_member_status_NEVER</th>\n",
       "      <th>club_member_status_PRE-CREATE</th>\n",
       "      <th>fashion_news_frequency_0</th>\n",
       "      <th>fashion_news_frequency_MONTHLY</th>\n",
       "      <th>fashion_news_frequency_NONE</th>\n",
       "      <th>fashion_news_frequency_REGULARLY</th>\n",
       "    </tr>\n",
       "  </thead>\n",
       "  <tbody>\n",
       "    <tr>\n",
       "      <th>0</th>\n",
       "      <td>0</td>\n",
       "      <td>00000dbacae5abe5e23885899a1fa44253a17956c6d1c3...</td>\n",
       "      <td>49.0</td>\n",
       "      <td>52043ee2162cf5aa7ee79974281641c6f11a68d276429a...</td>\n",
       "      <td>1.0</td>\n",
       "      <td>0.0</td>\n",
       "      <td>1.0</td>\n",
       "      <td>0.0</td>\n",
       "      <td>1.0</td>\n",
       "      <td>0.0</td>\n",
       "      <td>0.0</td>\n",
       "      <td>0.0</td>\n",
       "      <td>0.0</td>\n",
       "      <td>0.0</td>\n",
       "      <td>1.0</td>\n",
       "      <td>0.0</td>\n",
       "    </tr>\n",
       "    <tr>\n",
       "      <th>1</th>\n",
       "      <td>1</td>\n",
       "      <td>0000423b00ade91418cceaf3b26c6af3dd342b51fd051e...</td>\n",
       "      <td>25.0</td>\n",
       "      <td>2973abc54daa8a5f8ccfe9362140c63247c5eee03f1d93...</td>\n",
       "      <td>1.0</td>\n",
       "      <td>0.0</td>\n",
       "      <td>1.0</td>\n",
       "      <td>0.0</td>\n",
       "      <td>1.0</td>\n",
       "      <td>0.0</td>\n",
       "      <td>0.0</td>\n",
       "      <td>0.0</td>\n",
       "      <td>0.0</td>\n",
       "      <td>0.0</td>\n",
       "      <td>1.0</td>\n",
       "      <td>0.0</td>\n",
       "    </tr>\n",
       "    <tr>\n",
       "      <th>2</th>\n",
       "      <td>2</td>\n",
       "      <td>000058a12d5b43e67d225668fa1f8d618c13dc232df0ca...</td>\n",
       "      <td>24.0</td>\n",
       "      <td>64f17e6a330a85798e4998f62d0930d14db8db1c054af6...</td>\n",
       "      <td>1.0</td>\n",
       "      <td>0.0</td>\n",
       "      <td>1.0</td>\n",
       "      <td>0.0</td>\n",
       "      <td>1.0</td>\n",
       "      <td>0.0</td>\n",
       "      <td>0.0</td>\n",
       "      <td>0.0</td>\n",
       "      <td>0.0</td>\n",
       "      <td>0.0</td>\n",
       "      <td>1.0</td>\n",
       "      <td>0.0</td>\n",
       "    </tr>\n",
       "    <tr>\n",
       "      <th>3</th>\n",
       "      <td>3</td>\n",
       "      <td>00005ca1c9ed5f5146b52ac8639a40ca9d57aeff4d1bd2...</td>\n",
       "      <td>54.0</td>\n",
       "      <td>5d36574f52495e81f019b680c843c443bd343d5ca5b1c2...</td>\n",
       "      <td>1.0</td>\n",
       "      <td>0.0</td>\n",
       "      <td>1.0</td>\n",
       "      <td>0.0</td>\n",
       "      <td>1.0</td>\n",
       "      <td>0.0</td>\n",
       "      <td>0.0</td>\n",
       "      <td>0.0</td>\n",
       "      <td>0.0</td>\n",
       "      <td>0.0</td>\n",
       "      <td>1.0</td>\n",
       "      <td>0.0</td>\n",
       "    </tr>\n",
       "    <tr>\n",
       "      <th>4</th>\n",
       "      <td>4</td>\n",
       "      <td>00006413d8573cd20ed7128e53b7b13819fe5cfc2d801f...</td>\n",
       "      <td>52.0</td>\n",
       "      <td>25fa5ddee9aac01b35208d01736e57942317d756b32ddd...</td>\n",
       "      <td>0.0</td>\n",
       "      <td>1.0</td>\n",
       "      <td>0.0</td>\n",
       "      <td>1.0</td>\n",
       "      <td>1.0</td>\n",
       "      <td>0.0</td>\n",
       "      <td>0.0</td>\n",
       "      <td>0.0</td>\n",
       "      <td>0.0</td>\n",
       "      <td>0.0</td>\n",
       "      <td>0.0</td>\n",
       "      <td>1.0</td>\n",
       "    </tr>\n",
       "  </tbody>\n",
       "</table>\n",
       "</div>"
      ],
      "text/plain": [
       "   key_0                                        customer_id   age  \\\n",
       "0      0  00000dbacae5abe5e23885899a1fa44253a17956c6d1c3...  49.0   \n",
       "1      1  0000423b00ade91418cceaf3b26c6af3dd342b51fd051e...  25.0   \n",
       "2      2  000058a12d5b43e67d225668fa1f8d618c13dc232df0ca...  24.0   \n",
       "3      3  00005ca1c9ed5f5146b52ac8639a40ca9d57aeff4d1bd2...  54.0   \n",
       "4      4  00006413d8573cd20ed7128e53b7b13819fe5cfc2d801f...  52.0   \n",
       "\n",
       "                                         postal_code  FN_0.0  FN_1.0  \\\n",
       "0  52043ee2162cf5aa7ee79974281641c6f11a68d276429a...     1.0     0.0   \n",
       "1  2973abc54daa8a5f8ccfe9362140c63247c5eee03f1d93...     1.0     0.0   \n",
       "2  64f17e6a330a85798e4998f62d0930d14db8db1c054af6...     1.0     0.0   \n",
       "3  5d36574f52495e81f019b680c843c443bd343d5ca5b1c2...     1.0     0.0   \n",
       "4  25fa5ddee9aac01b35208d01736e57942317d756b32ddd...     0.0     1.0   \n",
       "\n",
       "   Active_0.0  Active_1.0  club_member_status_ACTIVE  \\\n",
       "0         1.0         0.0                        1.0   \n",
       "1         1.0         0.0                        1.0   \n",
       "2         1.0         0.0                        1.0   \n",
       "3         1.0         0.0                        1.0   \n",
       "4         0.0         1.0                        1.0   \n",
       "\n",
       "   club_member_status_LEFT CLUB  club_member_status_NEVER  \\\n",
       "0                           0.0                       0.0   \n",
       "1                           0.0                       0.0   \n",
       "2                           0.0                       0.0   \n",
       "3                           0.0                       0.0   \n",
       "4                           0.0                       0.0   \n",
       "\n",
       "   club_member_status_PRE-CREATE  fashion_news_frequency_0  \\\n",
       "0                            0.0                       0.0   \n",
       "1                            0.0                       0.0   \n",
       "2                            0.0                       0.0   \n",
       "3                            0.0                       0.0   \n",
       "4                            0.0                       0.0   \n",
       "\n",
       "   fashion_news_frequency_MONTHLY  fashion_news_frequency_NONE  \\\n",
       "0                             0.0                          1.0   \n",
       "1                             0.0                          1.0   \n",
       "2                             0.0                          1.0   \n",
       "3                             0.0                          1.0   \n",
       "4                             0.0                          0.0   \n",
       "\n",
       "   fashion_news_frequency_REGULARLY  \n",
       "0                               0.0  \n",
       "1                               0.0  \n",
       "2                               0.0  \n",
       "3                               0.0  \n",
       "4                               1.0  "
      ]
     },
     "execution_count": 66,
     "metadata": {},
     "output_type": "execute_result"
    }
   ],
   "source": [
    "from sklearn.experimental import enable_iterative_imputer\n",
    "from sklearn.impute import IterativeImputer\n",
    "from sklearn.preprocessing import OneHotEncoder\n",
    "import numpy as np\n",
    "\n",
    "\n",
    "features = clean_cust.columns[1:-2]\n",
    "transformed = clean_cust.copy().drop(columns=features)\n",
    "\n",
    "ohc = OneHotEncoder()\n",
    "ohc.fit(clean_cust[features])\n",
    "\n",
    "final_df = transformed.merge(pd.DataFrame(ohc.transform(clean_cust[features]).toarray(), columns=ohc.get_feature_names_out()), on=transformed.index)\n",
    "\n",
    "ohc.get_feature_names_out()\n",
    "\n",
    "final_df.head()"
   ]
  },
  {
   "cell_type": "code",
   "execution_count": 67,
   "id": "d67b9e18",
   "metadata": {},
   "outputs": [
    {
     "data": {
      "text/plain": [
       "IterativeImputer()"
      ]
     },
     "execution_count": 67,
     "metadata": {},
     "output_type": "execute_result"
    }
   ],
   "source": [
    "impute_age = final_df.drop(columns=['key_0','customer_id','postal_code'])\n",
    "\n",
    "from sklearn.experimental import enable_iterative_imputer\n",
    "from sklearn.impute import IterativeImputer\n",
    "\n",
    "iimp = IterativeImputer()\n",
    "iimp.fit(impute_age)\n",
    "\n"
   ]
  },
  {
   "cell_type": "code",
   "execution_count": 68,
   "id": "ae914dd4",
   "metadata": {},
   "outputs": [],
   "source": [
    "im_age = iimp.transform(impute_age)[:, 0]\n",
    "clean_cust['age'] = im_age"
   ]
  },
  {
   "cell_type": "code",
   "execution_count": 69,
   "id": "f49b6a80",
   "metadata": {},
   "outputs": [
    {
     "name": "stdout",
     "output_type": "stream",
     "text": [
      "36.41461799190471 32.0 21.0\n"
     ]
    },
    {
     "data": {
      "image/png": "[encoded data removed]",
      "text/plain": [
       "<Figure size 432x288 with 1 Axes>"
      ]
     },
     "metadata": {
      "needs_background": "light"
     },
     "output_type": "display_data"
    }
   ],
   "source": [
    "%matplotlib inline\n",
    "sns.histplot(data = clean_cust['age'])\n",
    "print(clean_cust.age.mean(), clean_cust.age.median(), clean_cust.age.mode()[0])"
   ]
  },
  {
   "cell_type": "markdown",
   "id": "e5fa9d66",
   "metadata": {},
   "source": [
    "Now that we've cleaned up the customer data we can start building out the dataset to make predictions. "
   ]
  },
  {
   "cell_type": "code",
   "execution_count": 70,
   "id": "26ff8f84",
   "metadata": {
    "scrolled": false
   },
   "outputs": [
    {
     "data": {
      "text/html": [
       "<div>\n",
       "<style scoped>\n",
       "    .dataframe tbody tr th:only-of-type {\n",
       "        vertical-align: middle;\n",
       "    }\n",
       "\n",
       "    .dataframe tbody tr th {\n",
       "        vertical-align: top;\n",
       "    }\n",
       "\n",
       "    .dataframe thead th {\n",
       "        text-align: right;\n",
       "    }\n",
       "</style>\n",
       "<table border=\"1\" class=\"dataframe\">\n",
       "  <thead>\n",
       "    <tr style=\"text-align: right;\">\n",
       "      <th></th>\n",
       "      <th>article_id</th>\n",
       "      <th>product_code</th>\n",
       "      <th>prod_name</th>\n",
       "      <th>product_type_no</th>\n",
       "      <th>product_type_name</th>\n",
       "      <th>product_group_name</th>\n",
       "      <th>graphical_appearance_no</th>\n",
       "      <th>graphical_appearance_name</th>\n",
       "      <th>colour_group_code</th>\n",
       "      <th>colour_group_name</th>\n",
       "      <th>...</th>\n",
       "      <th>department_name</th>\n",
       "      <th>index_code</th>\n",
       "      <th>index_name</th>\n",
       "      <th>index_group_no</th>\n",
       "      <th>index_group_name</th>\n",
       "      <th>section_no</th>\n",
       "      <th>section_name</th>\n",
       "      <th>garment_group_no</th>\n",
       "      <th>garment_group_name</th>\n",
       "      <th>detail_desc</th>\n",
       "    </tr>\n",
       "  </thead>\n",
       "  <tbody>\n",
       "    <tr>\n",
       "      <th>0</th>\n",
       "      <td>108775015</td>\n",
       "      <td>108775</td>\n",
       "      <td>Strap top</td>\n",
       "      <td>253</td>\n",
       "      <td>Vest top</td>\n",
       "      <td>Garment Upper body</td>\n",
       "      <td>1010016</td>\n",
       "      <td>Solid</td>\n",
       "      <td>9</td>\n",
       "      <td>Black</td>\n",
       "      <td>...</td>\n",
       "      <td>Jersey Basic</td>\n",
       "      <td>A</td>\n",
       "      <td>Ladieswear</td>\n",
       "      <td>1</td>\n",
       "      <td>Ladieswear</td>\n",
       "      <td>16</td>\n",
       "      <td>Womens Everyday Basics</td>\n",
       "      <td>1002</td>\n",
       "      <td>Jersey Basic</td>\n",
       "      <td>Jersey top with narrow shoulder straps.</td>\n",
       "    </tr>\n",
       "    <tr>\n",
       "      <th>1</th>\n",
       "      <td>108775044</td>\n",
       "      <td>108775</td>\n",
       "      <td>Strap top</td>\n",
       "      <td>253</td>\n",
       "      <td>Vest top</td>\n",
       "      <td>Garment Upper body</td>\n",
       "      <td>1010016</td>\n",
       "      <td>Solid</td>\n",
       "      <td>10</td>\n",
       "      <td>White</td>\n",
       "      <td>...</td>\n",
       "      <td>Jersey Basic</td>\n",
       "      <td>A</td>\n",
       "      <td>Ladieswear</td>\n",
       "      <td>1</td>\n",
       "      <td>Ladieswear</td>\n",
       "      <td>16</td>\n",
       "      <td>Womens Everyday Basics</td>\n",
       "      <td>1002</td>\n",
       "      <td>Jersey Basic</td>\n",
       "      <td>Jersey top with narrow shoulder straps.</td>\n",
       "    </tr>\n",
       "    <tr>\n",
       "      <th>2</th>\n",
       "      <td>108775051</td>\n",
       "      <td>108775</td>\n",
       "      <td>Strap top (1)</td>\n",
       "      <td>253</td>\n",
       "      <td>Vest top</td>\n",
       "      <td>Garment Upper body</td>\n",
       "      <td>1010017</td>\n",
       "      <td>Stripe</td>\n",
       "      <td>11</td>\n",
       "      <td>Off White</td>\n",
       "      <td>...</td>\n",
       "      <td>Jersey Basic</td>\n",
       "      <td>A</td>\n",
       "      <td>Ladieswear</td>\n",
       "      <td>1</td>\n",
       "      <td>Ladieswear</td>\n",
       "      <td>16</td>\n",
       "      <td>Womens Everyday Basics</td>\n",
       "      <td>1002</td>\n",
       "      <td>Jersey Basic</td>\n",
       "      <td>Jersey top with narrow shoulder straps.</td>\n",
       "    </tr>\n",
       "    <tr>\n",
       "      <th>3</th>\n",
       "      <td>110065001</td>\n",
       "      <td>110065</td>\n",
       "      <td>OP T-shirt (Idro)</td>\n",
       "      <td>306</td>\n",
       "      <td>Bra</td>\n",
       "      <td>Underwear</td>\n",
       "      <td>1010016</td>\n",
       "      <td>Solid</td>\n",
       "      <td>9</td>\n",
       "      <td>Black</td>\n",
       "      <td>...</td>\n",
       "      <td>Clean Lingerie</td>\n",
       "      <td>B</td>\n",
       "      <td>Lingeries/Tights</td>\n",
       "      <td>1</td>\n",
       "      <td>Ladieswear</td>\n",
       "      <td>61</td>\n",
       "      <td>Womens Lingerie</td>\n",
       "      <td>1017</td>\n",
       "      <td>Under-, Nightwear</td>\n",
       "      <td>Microfibre T-shirt bra with underwired, moulde...</td>\n",
       "    </tr>\n",
       "    <tr>\n",
       "      <th>4</th>\n",
       "      <td>110065002</td>\n",
       "      <td>110065</td>\n",
       "      <td>OP T-shirt (Idro)</td>\n",
       "      <td>306</td>\n",
       "      <td>Bra</td>\n",
       "      <td>Underwear</td>\n",
       "      <td>1010016</td>\n",
       "      <td>Solid</td>\n",
       "      <td>10</td>\n",
       "      <td>White</td>\n",
       "      <td>...</td>\n",
       "      <td>Clean Lingerie</td>\n",
       "      <td>B</td>\n",
       "      <td>Lingeries/Tights</td>\n",
       "      <td>1</td>\n",
       "      <td>Ladieswear</td>\n",
       "      <td>61</td>\n",
       "      <td>Womens Lingerie</td>\n",
       "      <td>1017</td>\n",
       "      <td>Under-, Nightwear</td>\n",
       "      <td>Microfibre T-shirt bra with underwired, moulde...</td>\n",
       "    </tr>\n",
       "  </tbody>\n",
       "</table>\n",
       "<p>5 rows × 25 columns</p>\n",
       "</div>"
      ],
      "text/plain": [
       "   article_id  product_code          prod_name  product_type_no  \\\n",
       "0   108775015        108775          Strap top              253   \n",
       "1   108775044        108775          Strap top              253   \n",
       "2   108775051        108775      Strap top (1)              253   \n",
       "3   110065001        110065  OP T-shirt (Idro)              306   \n",
       "4   110065002        110065  OP T-shirt (Idro)              306   \n",
       "\n",
       "  product_type_name  product_group_name  graphical_appearance_no  \\\n",
       "0          Vest top  Garment Upper body                  1010016   \n",
       "1          Vest top  Garment Upper body                  1010016   \n",
       "2          Vest top  Garment Upper body                  1010017   \n",
       "3               Bra           Underwear                  1010016   \n",
       "4               Bra           Underwear                  1010016   \n",
       "\n",
       "  graphical_appearance_name  colour_group_code colour_group_name  ...  \\\n",
       "0                     Solid                  9             Black  ...   \n",
       "1                     Solid                 10             White  ...   \n",
       "2                    Stripe                 11         Off White  ...   \n",
       "3                     Solid                  9             Black  ...   \n",
       "4                     Solid                 10             White  ...   \n",
       "\n",
       "   department_name index_code        index_name index_group_no  \\\n",
       "0     Jersey Basic          A        Ladieswear              1   \n",
       "1     Jersey Basic          A        Ladieswear              1   \n",
       "2     Jersey Basic          A        Ladieswear              1   \n",
       "3   Clean Lingerie          B  Lingeries/Tights              1   \n",
       "4   Clean Lingerie          B  Lingeries/Tights              1   \n",
       "\n",
       "   index_group_name section_no            section_name garment_group_no  \\\n",
       "0        Ladieswear         16  Womens Everyday Basics             1002   \n",
       "1        Ladieswear         16  Womens Everyday Basics             1002   \n",
       "2        Ladieswear         16  Womens Everyday Basics             1002   \n",
       "3        Ladieswear         61         Womens Lingerie             1017   \n",
       "4        Ladieswear         61         Womens Lingerie             1017   \n",
       "\n",
       "   garment_group_name                                        detail_desc  \n",
       "0        Jersey Basic            Jersey top with narrow shoulder straps.  \n",
       "1        Jersey Basic            Jersey top with narrow shoulder straps.  \n",
       "2        Jersey Basic            Jersey top with narrow shoulder straps.  \n",
       "3   Under-, Nightwear  Microfibre T-shirt bra with underwired, moulde...  \n",
       "4   Under-, Nightwear  Microfibre T-shirt bra with underwired, moulde...  \n",
       "\n",
       "[5 rows x 25 columns]"
      ]
     },
     "execution_count": 70,
     "metadata": {},
     "output_type": "execute_result"
    }
   ],
   "source": [
    "articles.head()"
   ]
  },
  {
   "cell_type": "markdown",
   "id": "1b9f8397",
   "metadata": {},
   "source": []
  },
  {
   "cell_type": "raw",
   "id": "59da8c4c",
   "metadata": {},
   "source": [
    "txs.head()"
   ]
  },
  {
   "cell_type": "markdown",
   "id": "156aaff6",
   "metadata": {},
   "source": [
    "# Exploring the Data\n",
    "\n",
    "## Building a dataset\n",
    "\n",
    "We'll start by grouping customers based on certain characteristics.  Some of these could include:\n",
    "- total spend\n",
    "- number of items purchased \n",
    "- types of items purchased\n",
    "- demographics (postal code, age, fn status, club membership) \n",
    "\n",
    "From there we can start taking <a href=https://www.investopedia.com/ask/answers/032615/what-are-some-examples-stratified-random-sampling.aspstratified> stratified samples </a> or begin <a href=https://en.wikipedia.org/wiki/Cluster_analysis> analyzing clusters </a> where patterns of purchases may emerge.  Since we need to build the model on a subset of the data, we need to ensure that we can capture a representative sample while avoiding overfitting."
   ]
  },
  {
   "cell_type": "code",
   "execution_count": 72,
   "id": "1a062dc0",
   "metadata": {},
   "outputs": [
    {
     "data": {
      "text/plain": [
       "1362281"
      ]
     },
     "execution_count": 72,
     "metadata": {},
     "output_type": "execute_result"
    }
   ],
   "source": [
    "# how many unique customers are in the training dataset? \n",
    "len(set(txs['customer_id']))"
   ]
  },
  {
   "cell_type": "code",
   "execution_count": 73,
   "id": "10178a4c",
   "metadata": {},
   "outputs": [
    {
     "data": {
      "text/plain": [
       "1371189"
      ]
     },
     "execution_count": 73,
     "metadata": {},
     "output_type": "execute_result"
    }
   ],
   "source": [
    "# is it equivalent to the number of customers in the customers dataset?\n",
    "len(clean_cust)"
   ]
  },
  {
   "cell_type": "code",
   "execution_count": 75,
   "id": "fc61fc03",
   "metadata": {},
   "outputs": [],
   "source": [
    "# take a 10% customer sample from transactions\n",
    "r_state = 10\n",
    "\n",
    "sample_10 = clean_cust.sample(frac=.1,random_state = r_state) # take 10% random sample of customer ids\n",
    "dask_10 = txs[txs['customer_id'].isin(sample_10['customer_id'])].compute() # filter the dataset to just sampled customers"
   ]
  },
  {
   "cell_type": "code",
   "execution_count": 76,
   "id": "5061fbf3",
   "metadata": {},
   "outputs": [
    {
     "name": "stdout",
     "output_type": "stream",
     "text": [
      "Index(['article_id', 'product_code', 'prod_name', 'product_type_no',\n",
      "       'product_type_name', 'product_group_name', 'graphical_appearance_no',\n",
      "       'graphical_appearance_name', 'colour_group_code', 'colour_group_name',\n",
      "       'perceived_colour_value_id', 'perceived_colour_value_name',\n",
      "       'perceived_colour_master_id', 'perceived_colour_master_name',\n",
      "       'department_no', 'department_name', 'index_code', 'index_name',\n",
      "       'index_group_no', 'index_group_name', 'section_no', 'section_name',\n",
      "       'garment_group_no', 'garment_group_name', 'detail_desc'],\n",
      "      dtype='object')\n",
      "prod_name 45875\n",
      "product_type_name 131\n",
      "product_group_name 19\n",
      "graphical_appearance_name 30\n",
      "colour_group_name 50\n",
      "perceived_colour_value_name 8\n",
      "perceived_colour_master_name 20\n",
      "department_name 250\n",
      "index_name 10\n",
      "index_group_name 5\n",
      "section_name 56\n",
      "garment_group_name 21\n"
     ]
    },
    {
     "data": {
      "text/html": [
       "<div>\n",
       "<style scoped>\n",
       "    .dataframe tbody tr th:only-of-type {\n",
       "        vertical-align: middle;\n",
       "    }\n",
       "\n",
       "    .dataframe tbody tr th {\n",
       "        vertical-align: top;\n",
       "    }\n",
       "\n",
       "    .dataframe thead th {\n",
       "        text-align: right;\n",
       "    }\n",
       "</style>\n",
       "<table border=\"1\" class=\"dataframe\">\n",
       "  <thead>\n",
       "    <tr style=\"text-align: right;\">\n",
       "      <th></th>\n",
       "      <th>colour_group_name</th>\n",
       "      <th>perceived_colour_value_name</th>\n",
       "      <th>perceived_colour_master_name</th>\n",
       "    </tr>\n",
       "  </thead>\n",
       "  <tbody>\n",
       "    <tr>\n",
       "      <th>0</th>\n",
       "      <td>Black</td>\n",
       "      <td>Dark</td>\n",
       "      <td>Black</td>\n",
       "    </tr>\n",
       "    <tr>\n",
       "      <th>1</th>\n",
       "      <td>White</td>\n",
       "      <td>Light</td>\n",
       "      <td>White</td>\n",
       "    </tr>\n",
       "    <tr>\n",
       "      <th>2</th>\n",
       "      <td>Off White</td>\n",
       "      <td>Dusty Light</td>\n",
       "      <td>White</td>\n",
       "    </tr>\n",
       "    <tr>\n",
       "      <th>3</th>\n",
       "      <td>Black</td>\n",
       "      <td>Dark</td>\n",
       "      <td>Black</td>\n",
       "    </tr>\n",
       "    <tr>\n",
       "      <th>4</th>\n",
       "      <td>White</td>\n",
       "      <td>Light</td>\n",
       "      <td>White</td>\n",
       "    </tr>\n",
       "  </tbody>\n",
       "</table>\n",
       "</div>"
      ],
      "text/plain": [
       "  colour_group_name perceived_colour_value_name perceived_colour_master_name\n",
       "0             Black                        Dark                        Black\n",
       "1             White                       Light                        White\n",
       "2         Off White                 Dusty Light                        White\n",
       "3             Black                        Dark                        Black\n",
       "4             White                       Light                        White"
      ]
     },
     "execution_count": 76,
     "metadata": {},
     "output_type": "execute_result"
    }
   ],
   "source": [
    "print(articles.columns)\n",
    "\n",
    "name_filter = [word for word in articles.columns if 'name' in word] # list comprehension (the cool way)\n",
    "\n",
    "# test_names = [] # regular way (not as cool)\n",
    "# for word in articles.columns:\n",
    "#     if 'name' in word:\n",
    "#         test_names.append(word)\n",
    "# test_nanes\n",
    "\n",
    "# find the count of unique values for each column in articles dataframe\n",
    "\n",
    "article_names = articles[name_filter].copy()\n",
    "\n",
    "for col in article_names:\n",
    "    print(col, article_names[col].nunique())\n",
    "    \n",
    "articles[['product_code','prod_name']].nunique()\n",
    "\n",
    "colors = [word for word in name_filter if 'colour' in word]\n",
    "\n",
    "articles[colors].head()"
   ]
  },
  {
   "cell_type": "markdown",
   "id": "ac2a75e9",
   "metadata": {},
   "source": [
    "It looks like product code and name might be a messy column to use, for example there is a value `Strap Top` as well as `Strap Top (1)` which share the same product code, however there are about 1500 more unique product codes vs names.  It would therefore add more noise to our model than useful information to try and wrangle that, when the combination of other columns as well as unique article ID would be sufficient. We can now drop product name from our filter. "
   ]
  },
  {
   "cell_type": "code",
   "execution_count": 77,
   "id": "a43018b1",
   "metadata": {},
   "outputs": [
    {
     "data": {
      "text/html": [
       "<div>\n",
       "<style scoped>\n",
       "    .dataframe tbody tr th:only-of-type {\n",
       "        vertical-align: middle;\n",
       "    }\n",
       "\n",
       "    .dataframe tbody tr th {\n",
       "        vertical-align: top;\n",
       "    }\n",
       "\n",
       "    .dataframe thead th {\n",
       "        text-align: right;\n",
       "    }\n",
       "</style>\n",
       "<table border=\"1\" class=\"dataframe\">\n",
       "  <thead>\n",
       "    <tr style=\"text-align: right;\">\n",
       "      <th></th>\n",
       "      <th>t_dat</th>\n",
       "      <th>article_id</th>\n",
       "      <th>price</th>\n",
       "      <th>sales_channel_id</th>\n",
       "    </tr>\n",
       "    <tr>\n",
       "      <th>customer_id</th>\n",
       "      <th></th>\n",
       "      <th></th>\n",
       "      <th></th>\n",
       "      <th></th>\n",
       "    </tr>\n",
       "  </thead>\n",
       "  <tbody>\n",
       "    <tr>\n",
       "      <th>0000945f66de1a11d9447609b8b41b1bc987ba185a5496ae8831e8493afa24ff</th>\n",
       "      <td>3</td>\n",
       "      <td>3</td>\n",
       "      <td>3</td>\n",
       "      <td>3</td>\n",
       "    </tr>\n",
       "    <tr>\n",
       "      <th>0000d6c053fc8f9389d4565051f12402d5774aa4a9d2e5c2d5cd5f5f3c9a4488</th>\n",
       "      <td>7</td>\n",
       "      <td>7</td>\n",
       "      <td>7</td>\n",
       "      <td>7</td>\n",
       "    </tr>\n",
       "    <tr>\n",
       "      <th>0000ffa57a8098a6cd99c0f0782b3e674f47d68db69dc173c7e67e0f68170c4c</th>\n",
       "      <td>3</td>\n",
       "      <td>3</td>\n",
       "      <td>3</td>\n",
       "      <td>3</td>\n",
       "    </tr>\n",
       "    <tr>\n",
       "      <th>0001177027259b455f979d85a278e4b280205d4de5cce4bb83ccbb8d5dbb4b92</th>\n",
       "      <td>37</td>\n",
       "      <td>37</td>\n",
       "      <td>37</td>\n",
       "      <td>37</td>\n",
       "    </tr>\n",
       "    <tr>\n",
       "      <th>00015c1a121e08bbd2552c15fbbb6e6b19d3bf8f7b6a3d60c6d7be26f06264d6</th>\n",
       "      <td>41</td>\n",
       "      <td>41</td>\n",
       "      <td>41</td>\n",
       "      <td>41</td>\n",
       "    </tr>\n",
       "    <tr>\n",
       "      <th>...</th>\n",
       "      <td>...</td>\n",
       "      <td>...</td>\n",
       "      <td>...</td>\n",
       "      <td>...</td>\n",
       "    </tr>\n",
       "    <tr>\n",
       "      <th>fffe61b99c2d0418ed22190a8490b142247e8897c67941ce25f78a99656e9f63</th>\n",
       "      <td>1</td>\n",
       "      <td>1</td>\n",
       "      <td>1</td>\n",
       "      <td>1</td>\n",
       "    </tr>\n",
       "    <tr>\n",
       "      <th>fffe8c175c550b9c7d994efcef320737723a43bedf360d7b7c5709cc232b1608</th>\n",
       "      <td>5</td>\n",
       "      <td>5</td>\n",
       "      <td>5</td>\n",
       "      <td>5</td>\n",
       "    </tr>\n",
       "    <tr>\n",
       "      <th>fffeb8c2b8b5541865aa6ecd68d65dbe3f17dc93e2776d37b233438c94d9dd12</th>\n",
       "      <td>3</td>\n",
       "      <td>3</td>\n",
       "      <td>3</td>\n",
       "      <td>3</td>\n",
       "    </tr>\n",
       "    <tr>\n",
       "      <th>ffff4c4e8b57b633c1ddf8fbd53db16b962cf831baf9ed67c6a53d86e167a35b</th>\n",
       "      <td>18</td>\n",
       "      <td>18</td>\n",
       "      <td>18</td>\n",
       "      <td>18</td>\n",
       "    </tr>\n",
       "    <tr>\n",
       "      <th>ffff7d65748db4d52e48b74c8f83ccb0029fc3bbafa511ba591cb2908570f220</th>\n",
       "      <td>2</td>\n",
       "      <td>2</td>\n",
       "      <td>2</td>\n",
       "      <td>2</td>\n",
       "    </tr>\n",
       "  </tbody>\n",
       "</table>\n",
       "<p>136187 rows × 4 columns</p>\n",
       "</div>"
      ],
      "text/plain": [
       "                                                    t_dat  article_id  price  \\\n",
       "customer_id                                                                    \n",
       "0000945f66de1a11d9447609b8b41b1bc987ba185a5496a...      3           3      3   \n",
       "0000d6c053fc8f9389d4565051f12402d5774aa4a9d2e5c...      7           7      7   \n",
       "0000ffa57a8098a6cd99c0f0782b3e674f47d68db69dc17...      3           3      3   \n",
       "0001177027259b455f979d85a278e4b280205d4de5cce4b...     37          37     37   \n",
       "00015c1a121e08bbd2552c15fbbb6e6b19d3bf8f7b6a3d6...     41          41     41   \n",
       "...                                                   ...         ...    ...   \n",
       "fffe61b99c2d0418ed22190a8490b142247e8897c67941c...      1           1      1   \n",
       "fffe8c175c550b9c7d994efcef320737723a43bedf360d7...      5           5      5   \n",
       "fffeb8c2b8b5541865aa6ecd68d65dbe3f17dc93e2776d3...      3           3      3   \n",
       "ffff4c4e8b57b633c1ddf8fbd53db16b962cf831baf9ed6...     18          18     18   \n",
       "ffff7d65748db4d52e48b74c8f83ccb0029fc3bbafa511b...      2           2      2   \n",
       "\n",
       "                                                    sales_channel_id  \n",
       "customer_id                                                           \n",
       "0000945f66de1a11d9447609b8b41b1bc987ba185a5496a...                 3  \n",
       "0000d6c053fc8f9389d4565051f12402d5774aa4a9d2e5c...                 7  \n",
       "0000ffa57a8098a6cd99c0f0782b3e674f47d68db69dc17...                 3  \n",
       "0001177027259b455f979d85a278e4b280205d4de5cce4b...                37  \n",
       "00015c1a121e08bbd2552c15fbbb6e6b19d3bf8f7b6a3d6...                41  \n",
       "...                                                              ...  \n",
       "fffe61b99c2d0418ed22190a8490b142247e8897c67941c...                 1  \n",
       "fffe8c175c550b9c7d994efcef320737723a43bedf360d7...                 5  \n",
       "fffeb8c2b8b5541865aa6ecd68d65dbe3f17dc93e2776d3...                 3  \n",
       "ffff4c4e8b57b633c1ddf8fbd53db16b962cf831baf9ed6...                18  \n",
       "ffff7d65748db4d52e48b74c8f83ccb0029fc3bbafa511b...                 2  \n",
       "\n",
       "[136187 rows x 4 columns]"
      ]
     },
     "execution_count": 77,
     "metadata": {},
     "output_type": "execute_result"
    }
   ],
   "source": [
    "dask_10.groupby(['customer_id']).count()"
   ]
  },
  {
   "cell_type": "code",
   "execution_count": 78,
   "id": "069b73a7",
   "metadata": {
    "scrolled": false
   },
   "outputs": [
    {
     "data": {
      "text/plain": [
       "Index(['t_dat', 'customer_id', 'price', 'sales_channel_id', 'article_id',\n",
       "       'product_code', 'prod_name', 'product_type_no', 'product_type_name',\n",
       "       'product_group_name', 'graphical_appearance_no',\n",
       "       'graphical_appearance_name', 'colour_group_code', 'colour_group_name',\n",
       "       'perceived_colour_value_id', 'perceived_colour_value_name',\n",
       "       'perceived_colour_master_id', 'perceived_colour_master_name',\n",
       "       'department_no', 'department_name', 'index_code', 'index_name',\n",
       "       'index_group_no', 'index_group_name', 'section_no', 'section_name',\n",
       "       'garment_group_no', 'garment_group_name', 'detail_desc'],\n",
       "      dtype='object')"
      ]
     },
     "execution_count": 78,
     "metadata": {},
     "output_type": "execute_result"
    }
   ],
   "source": [
    "# classifying a single customers's purchases\n",
    "cust_1 = dask_10[dask_10['customer_id'] == 'ffffcf35913a0bee60e8741cb2b4e78b8a98ee5ff2e6a1778d0116cffd259264'].copy()\n",
    "\n",
    "training_cols = ['article_id','price','product_code','product_type_no','graphical_appearance_no',\n",
    "                'colour_group_code','perceived_colour_value_id','perceived_colour_master_id','department_no',\n",
    "                'index_code','index_group_no','section_no','garment_group_no']\n",
    "\n",
    "combined = cust_1.merge(articles,on=\"article_id\")\n",
    "combined.columns"
   ]
  }
 ],
 "metadata": {
  "kernelspec": {
   "display_name": "Python 3 (ipykernel)",
   "language": "python",
   "name": "python3"
  },
  "language_info": {
   "codemirror_mode": {
    "name": "ipython",
    "version": 3
   },
   "file_extension": ".py",
   "mimetype": "text/x-python",
   "name": "python",
   "nbconvert_exporter": "python",
   "pygments_lexer": "ipython3",
   "version": "3.9.7"
  }
 },
 "nbformat": 4,
 "nbformat_minor": 5
}
